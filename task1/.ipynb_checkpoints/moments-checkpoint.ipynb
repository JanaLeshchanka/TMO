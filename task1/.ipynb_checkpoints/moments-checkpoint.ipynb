{
 "cells": [
  {
   "cell_type": "code",
   "execution_count": 1,
   "metadata": {},
   "outputs": [],
   "source": [
    "import numpy as np"
   ]
  },
  {
   "cell_type": "markdown",
   "metadata": {},
   "source": [
    "D0, D1, D2 - матрицы, описывающие поведение потока. D - список этих матриц"
   ]
  },
  {
   "cell_type": "code",
   "execution_count": 2,
   "metadata": {},
   "outputs": [],
   "source": [
    "D0 = np.matrix(\"\"\"-1.45 0.2 0.15 0.1;\n",
    "                   0.2 -2.6 0.1 0.3;\n",
    "                   0.2 0.1 -3.7 0.4;\n",
    "                   0.1 0.05 0.15 -4.3\n",
    "               \"\"\")"
   ]
  },
  {
   "cell_type": "code",
   "execution_count": 3,
   "metadata": {},
   "outputs": [],
   "source": [
    "D1 = D2 = np.matrix(np.diag([0.5, 1, 1.5, 2]))"
   ]
  },
  {
   "cell_type": "code",
   "execution_count": 4,
   "metadata": {},
   "outputs": [],
   "source": [
    "D = []"
   ]
  },
  {
   "cell_type": "code",
   "execution_count": 5,
   "metadata": {},
   "outputs": [],
   "source": [
    "D.append(D0)\n",
    "D.append(D1)\n",
    "D.append(D2)"
   ]
  },
  {
   "cell_type": "code",
   "execution_count": 6,
   "metadata": {},
   "outputs": [],
   "source": [
    "n = len(D0)"
   ]
  },
  {
   "cell_type": "code",
   "execution_count": 7,
   "metadata": {},
   "outputs": [],
   "source": [
    "e = np.full([n,1], 1)\n",
    "e_ = np.full([n,1], 0)\n",
    "e_[0] = 1"
   ]
  },
  {
   "cell_type": "code",
   "execution_count": 8,
   "metadata": {},
   "outputs": [],
   "source": [
    "I_ = np.matrix(np.diag((e-e_).transpose()[0]))\n",
    "I = np.matrix(np.diag(e.transpose()[0]))"
   ]
  },
  {
   "cell_type": "code",
   "execution_count": 9,
   "metadata": {},
   "outputs": [],
   "source": [
    "e = np.matrix(e)\n",
    "e_ = np.matrix(e_)"
   ]
  },
  {
   "cell_type": "code",
   "execution_count": 10,
   "metadata": {},
   "outputs": [],
   "source": [
    "e_ = e_.transpose()"
   ]
  },
  {
   "cell_type": "markdown",
   "metadata": {},
   "source": [
    "pi0 - Π(0) - вектор стационарных вероятностей"
   ]
  },
  {
   "cell_type": "code",
   "execution_count": 11,
   "metadata": {},
   "outputs": [],
   "source": [
    "pi0 = np.matrix(np.array([0.0239881, 0.0150405, 0.0113508, 0.0183472]))"
   ]
  },
  {
   "cell_type": "markdown",
   "metadata": {},
   "source": [
    "D_1 - инфинитезиальный генератор процесса"
   ]
  },
  {
   "cell_type": "code",
   "execution_count": 12,
   "metadata": {},
   "outputs": [],
   "source": [
    "D_1 = D0 + D1 + D2"
   ]
  },
  {
   "cell_type": "code",
   "execution_count": 13,
   "metadata": {},
   "outputs": [
    {
     "data": {
      "text/plain": [
       "matrix([[-0.45,  0.2 ,  0.15,  0.1 ],\n",
       "        [ 0.2 , -0.6 ,  0.1 ,  0.3 ],\n",
       "        [ 0.2 ,  0.1 , -0.7 ,  0.4 ],\n",
       "        [ 0.1 ,  0.05,  0.15, -0.3 ]])"
      ]
     },
     "execution_count": 13,
     "metadata": {},
     "output_type": "execute_result"
    }
   ],
   "source": [
    "D_1"
   ]
  },
  {
   "cell_type": "code",
   "execution_count": 14,
   "metadata": {},
   "outputs": [],
   "source": [
    "D_1e = np.concatenate((D_1.transpose(), e.transpose()))"
   ]
  },
  {
   "cell_type": "code",
   "execution_count": 15,
   "metadata": {},
   "outputs": [
    {
     "data": {
      "text/plain": [
       "matrix([[0.],\n",
       "        [0.],\n",
       "        [0.],\n",
       "        [0.],\n",
       "        [1.]])"
      ]
     },
     "execution_count": 15,
     "metadata": {},
     "output_type": "execute_result"
    }
   ],
   "source": [
    "np.concatenate((np.zeros([4,1]), np.matrix(1)))"
   ]
  },
  {
   "cell_type": "code",
   "execution_count": 16,
   "metadata": {},
   "outputs": [
    {
     "data": {
      "text/plain": [
       "matrix([[-0.45,  0.2 ,  0.2 ,  0.1 ],\n",
       "        [ 0.2 , -0.6 ,  0.1 ,  0.05],\n",
       "        [ 0.15,  0.1 , -0.7 ,  0.15],\n",
       "        [ 0.1 ,  0.3 ,  0.4 , -0.3 ],\n",
       "        [ 1.  ,  1.  ,  1.  ,  1.  ]])"
      ]
     },
     "execution_count": 16,
     "metadata": {},
     "output_type": "execute_result"
    }
   ],
   "source": [
    "D_1e"
   ]
  },
  {
   "cell_type": "markdown",
   "metadata": {},
   "source": [
    "находим вектор 𝜃 из система уравнений: <br>\n",
    "𝜃𝐷(1) = 0, <br>\n",
    "𝜃e = 1."
   ]
  },
  {
   "cell_type": "code",
   "execution_count": 17,
   "metadata": {},
   "outputs": [
    {
     "name": "stderr",
     "output_type": "stream",
     "text": [
      "<ipython-input-17-66e91213ac95>:1: FutureWarning: `rcond` parameter will change to the default of machine precision times ``max(M, N)`` where M and N are the input matrix dimensions.\n",
      "To use the future default and silence this warning we advise to pass `rcond=None`, to keep using the old, explicitly pass `rcond=-1`.\n",
      "  theta = np.linalg.lstsq(a = D_1e, b = np.concatenate((np.zeros([4,1]), np.matrix(1))))[0].reshape([1,4])\n"
     ]
    }
   ],
   "source": [
    "theta = np.linalg.lstsq(a = D_1e, b = np.concatenate((np.zeros([4,1]), np.matrix(1))))[0].reshape([1,4])"
   ]
  },
  {
   "cell_type": "code",
   "execution_count": 18,
   "metadata": {},
   "outputs": [
    {
     "data": {
      "text/plain": [
       "matrix([[0.23870418, 0.14492754, 0.16794544, 0.44842285]])"
      ]
     },
     "execution_count": 18,
     "metadata": {},
     "output_type": "execute_result"
    }
   ],
   "source": [
    "theta"
   ]
  },
  {
   "cell_type": "markdown",
   "metadata": {},
   "source": [
    "dD - список производных производящих функций при z = 1"
   ]
  },
  {
   "cell_type": "code",
   "execution_count": 19,
   "metadata": {},
   "outputs": [],
   "source": [
    "dD = []"
   ]
  },
  {
   "cell_type": "code",
   "execution_count": 20,
   "metadata": {},
   "outputs": [],
   "source": [
    "dD.append(D_1.copy())"
   ]
  },
  {
   "cell_type": "code",
   "execution_count": 21,
   "metadata": {},
   "outputs": [],
   "source": [
    "for i in range(4):\n",
    "    dD.append(np.matrix(np.zeros([4,4])))"
   ]
  },
  {
   "cell_type": "code",
   "execution_count": 22,
   "metadata": {},
   "outputs": [],
   "source": [
    "for index, matrix in enumerate(D):\n",
    "    dD[1] += index * matrix\n",
    "    dD[2] += index * (index - 1) * matrix\n",
    "    dD[3] += index * (index - 1) * (index - 2) * matrix\n",
    "    dD[4] += index * (index - 1) * (index - 2) * (index - 3) * matrix"
   ]
  },
  {
   "cell_type": "markdown",
   "metadata": {},
   "source": [
    "b - список начальных моментов распределения B(t) <br>\n",
    "T1, T2 - параметры равномерного распределения\n"
   ]
  },
  {
   "cell_type": "code",
   "execution_count": 23,
   "metadata": {},
   "outputs": [],
   "source": [
    "T1 = 0.1\n",
    "T2 = 0.4"
   ]
  },
  {
   "cell_type": "code",
   "execution_count": 24,
   "metadata": {},
   "outputs": [],
   "source": [
    "b = []"
   ]
  },
  {
   "cell_type": "code",
   "execution_count": 25,
   "metadata": {},
   "outputs": [],
   "source": [
    "deltaT = T2 - T1"
   ]
  },
  {
   "cell_type": "code",
   "execution_count": 26,
   "metadata": {},
   "outputs": [],
   "source": [
    "for i in range(4):\n",
    "    b.append(deltaT**(i+1)/(i+2))"
   ]
  },
  {
   "cell_type": "markdown",
   "metadata": {},
   "source": [
    "коэффициент 𝜆 находим из уравнения: <br>\n",
    "𝜆 = 𝜃𝐷′(1)e,\n",
    "где 𝐷′(1) = ∑︁k*Dk*z^(k-1)    /сумма от k=0 до k=+inf (кол-во матриц D)"
   ]
  },
  {
   "cell_type": "code",
   "execution_count": 27,
   "metadata": {},
   "outputs": [],
   "source": [
    "lambda_ = theta * dD[1] * e"
   ]
  },
  {
   "cell_type": "code",
   "execution_count": 28,
   "metadata": {},
   "outputs": [
    {
     "data": {
      "text/plain": [
       "matrix([[4.23913043]])"
      ]
     },
     "execution_count": 28,
     "metadata": {},
     "output_type": "execute_result"
    }
   ],
   "source": [
    "lambda_"
   ]
  },
  {
   "cell_type": "markdown",
   "metadata": {},
   "source": [
    "Находим <br>\n",
    "A0 = D(1);<br>\n",
    "A1 = −D′(1)b1;<br>\n",
    "A2 = [D′′ (1)b1^2 + D′(1)b2]/2<br>\n",
    "A3 =−[D′′′(1)b1^3 +3D′′(1)b1*b2 +D′(1)b3]/6<br>\n",
    "A4 = [D′′′′(1)b1 + 6D′′′(1)b1^2*b2 + 4D′′(1)b1*b3 + 3D′′(1)b2 + D′(1)b4]/24<br>\n",
    "\n",
    "A=A0I+(I+A1)eeˆ."
   ]
  },
  {
   "cell_type": "code",
   "execution_count": 29,
   "metadata": {},
   "outputs": [],
   "source": [
    "A = []"
   ]
  },
  {
   "cell_type": "code",
   "execution_count": 30,
   "metadata": {},
   "outputs": [],
   "source": [
    "A.append(dD[0])"
   ]
  },
  {
   "cell_type": "code",
   "execution_count": 31,
   "metadata": {},
   "outputs": [],
   "source": [
    "A.append(-dD[1] * b[0])"
   ]
  },
  {
   "cell_type": "code",
   "execution_count": 32,
   "metadata": {},
   "outputs": [],
   "source": [
    "A.append((dD[2] * b[0]**2 + dD[1] * b[1])/2)"
   ]
  },
  {
   "cell_type": "code",
   "execution_count": 33,
   "metadata": {},
   "outputs": [],
   "source": [
    "A.append(-(dD[3] * b[0]**3 + 3 * dD[2] * b[0] * b[1] + dD[1] * b[2])/6)"
   ]
  },
  {
   "cell_type": "code",
   "execution_count": 34,
   "metadata": {},
   "outputs": [],
   "source": [
    "A.append((dD[4] * b[0]**4 + 6 * dD[3] * b[0]**2 * b[1] + 4 * dD[2] * b[0] * b[2] +\n",
    "          3 * dD[2] * b[1]**2 + dD[1] * b[3])/24)"
   ]
  },
  {
   "cell_type": "code",
   "execution_count": 35,
   "metadata": {},
   "outputs": [],
   "source": [
    "A_ = A[0] * I_ + (I + A[1]) * e * e_"
   ]
  },
  {
   "cell_type": "code",
   "execution_count": 36,
   "metadata": {},
   "outputs": [
    {
     "data": {
      "text/plain": [
       "matrix([[ 0.775,  0.2  ,  0.15 ,  0.1  ],\n",
       "        [ 0.55 , -0.6  ,  0.1  ,  0.3  ],\n",
       "        [ 0.325,  0.1  , -0.7  ,  0.4  ],\n",
       "        [ 0.1  ,  0.05 ,  0.15 , -0.3  ]])"
      ]
     },
     "execution_count": 36,
     "metadata": {},
     "output_type": "execute_result"
    }
   ],
   "source": [
    "A_"
   ]
  },
  {
   "cell_type": "code",
   "execution_count": 37,
   "metadata": {},
   "outputs": [],
   "source": [
    "p0 = lambda_ * pi0 * np.linalg.inv(-D0)"
   ]
  },
  {
   "cell_type": "code",
   "execution_count": 38,
   "metadata": {},
   "outputs": [
    {
     "data": {
      "text/plain": [
       "matrix([[0.07863211, 0.03172185, 0.01801494, 0.0238051 ]])"
      ]
     },
     "execution_count": 38,
     "metadata": {},
     "output_type": "execute_result"
    }
   ],
   "source": [
    "p0"
   ]
  },
  {
   "cell_type": "markdown",
   "metadata": {},
   "source": [
    "Находим Wr, r =0,1,2,3\n"
   ]
  },
  {
   "cell_type": "code",
   "execution_count": 39,
   "metadata": {},
   "outputs": [],
   "source": [
    "w = []"
   ]
  },
  {
   "cell_type": "code",
   "execution_count": 40,
   "metadata": {},
   "outputs": [],
   "source": [
    "w.append(theta)"
   ]
  },
  {
   "cell_type": "code",
   "execution_count": 41,
   "metadata": {},
   "outputs": [],
   "source": [
    "A_inv = np.linalg.inv(A_)"
   ]
  },
  {
   "cell_type": "code",
   "execution_count": 42,
   "metadata": {},
   "outputs": [],
   "source": [
    "w.append(((w[0] * (I + A[1]) - p0) * I_ + w[0] * A[2] * e * e_) * A_inv)"
   ]
  },
  {
   "cell_type": "code",
   "execution_count": 43,
   "metadata": {},
   "outputs": [],
   "source": [
    "w.append(-2 * ((w[0] * A[2] - w[1] * (I + A[1])) * I_ + (w[0] * A[3] + w[1] * A[2]) * e * e_) * A_inv)"
   ]
  },
  {
   "cell_type": "code",
   "execution_count": 44,
   "metadata": {},
   "outputs": [],
   "source": [
    "w.append(3 * ((2 * w[0] * A[3] - 2 * w[1] * A[2] + w[2] * (I + A[1])) * I_ + \n",
    "     (2 * w[0] * A[4] - 2 * w[1] * A[3] + w[2] * A[2]) * e * e_) * A_inv)"
   ]
  },
  {
   "cell_type": "code",
   "execution_count": 45,
   "metadata": {},
   "outputs": [
    {
     "data": {
      "text/plain": [
       "[matrix([[0.23870418, 0.14492754, 0.16794544, 0.44842285]]),\n",
       " matrix([[ 0.17839742, -0.03566542, -0.04064558, -0.10051768]]),\n",
       " matrix([[-0.23215056,  0.1290499 ,  0.23369959,  0.83385818]]),\n",
       " matrix([[ 1.05260789, -0.21194091, -0.45542043, -1.43230159]])]"
      ]
     },
     "execution_count": 45,
     "metadata": {},
     "output_type": "execute_result"
    }
   ],
   "source": [
    "w"
   ]
  },
  {
   "cell_type": "markdown",
   "metadata": {},
   "source": [
    "находим\n",
    "\\begin{align} \n",
    "\\rho = \\lambda b_1\\\\\n",
    "\\end{align}"
   ]
  },
  {
   "cell_type": "code",
   "execution_count": 46,
   "metadata": {},
   "outputs": [],
   "source": [
    "rho = lambda_ * b[0]"
   ]
  },
  {
   "cell_type": "code",
   "execution_count": 47,
   "metadata": {},
   "outputs": [
    {
     "data": {
      "text/plain": [
       "matrix([[0.63586957]])"
      ]
     },
     "execution_count": 47,
     "metadata": {},
     "output_type": "execute_result"
    }
   ],
   "source": [
    "rho"
   ]
  },
  {
   "cell_type": "code",
   "execution_count": 48,
   "metadata": {},
   "outputs": [],
   "source": [
    "v = []"
   ]
  },
  {
   "cell_type": "code",
   "execution_count": 49,
   "metadata": {},
   "outputs": [],
   "source": [
    "v.append(np.matrix([1]))"
   ]
  },
  {
   "cell_type": "code",
   "execution_count": 50,
   "metadata": {},
   "outputs": [],
   "source": [
    "v.append(((w[0] * A[2] - w[1] * A[1]) * e - lambda_ * b[1] / 2)/rho)"
   ]
  },
  {
   "cell_type": "code",
   "execution_count": 51,
   "metadata": {},
   "outputs": [],
   "source": [
    "v.append(((-2 * w[0] * A[3] + 2 * w[1] * A[2] - w[2] * A[1]) * e -\n",
    "          v[0] * lambda_ * b[2] / 3 - v[1] * lambda_ * b[1]) / rho) "
   ]
  },
  {
   "cell_type": "code",
   "execution_count": 52,
   "metadata": {},
   "outputs": [],
   "source": [
    "v.append(((6 * w[0] * A[4] - 6 * w[1] * A[3] + 3 * w[2] * A[2] - w[3] * A[1]) * e - \n",
    "          lambda_ * (v[0] * b[3] / 4 + v[1] * b[2] + 3 * v[2] * b[1] / 2)) / rho)"
   ]
  },
  {
   "cell_type": "code",
   "execution_count": 53,
   "metadata": {},
   "outputs": [
    {
     "data": {
      "text/plain": [
       "[matrix([[1]]),\n",
       " matrix([[-0.09753294]]),\n",
       " matrix([[1.43273989]]),\n",
       " matrix([[-2.07478365]])]"
      ]
     },
     "execution_count": 53,
     "metadata": {},
     "output_type": "execute_result"
    }
   ],
   "source": [
    "v"
   ]
  },
  {
   "cell_type": "code",
   "execution_count": 54,
   "metadata": {},
   "outputs": [
    {
     "data": {
      "text/plain": [
       "[matrix([[0.23870418, 0.14492754, 0.16794544, 0.44842285]]),\n",
       " matrix([[ 0.17839742, -0.03566542, -0.04064558, -0.10051768]]),\n",
       " matrix([[-0.23215056,  0.1290499 ,  0.23369959,  0.83385818]]),\n",
       " matrix([[ 1.05260789, -0.21194091, -0.45542043, -1.43230159]])]"
      ]
     },
     "execution_count": 54,
     "metadata": {},
     "output_type": "execute_result"
    }
   ],
   "source": [
    "w"
   ]
  },
  {
   "cell_type": "code",
   "execution_count": 60,
   "metadata": {},
   "outputs": [
    {
     "data": {
      "text/plain": [
       "[0.15000000000000002,\n",
       " 0.03000000000000001,\n",
       " 0.006750000000000003,\n",
       " 0.001620000000000001]"
      ]
     },
     "execution_count": 60,
     "metadata": {},
     "output_type": "execute_result"
    }
   ],
   "source": [
    "b"
   ]
  },
  {
   "cell_type": "code",
   "execution_count": 55,
   "metadata": {},
   "outputs": [],
   "source": [
    "#вычисление производных (может, понадобится (нет)) \n",
    "from sympy import Symbol, lambdify\n",
    "eq = np.zeros([4,4])\n",
    "\n",
    "Dk = Symbol('Dk')\n",
    "z = Symbol('z')\n",
    "k = Symbol('k')\n",
    "\n",
    "eq = Dk * z**k"
   ]
  },
  {
   "cell_type": "code",
   "execution_count": 56,
   "metadata": {},
   "outputs": [],
   "source": [
    "Derivatives = []\n",
    "DD = []\n",
    "\n",
    "for i in range(4):\n",
    "    eq = eq.diff('z')\n",
    "    Derivatives.append(lambdify([z, k, Dk], eq))"
   ]
  },
  {
   "cell_type": "code",
   "execution_count": 57,
   "metadata": {},
   "outputs": [],
   "source": [
    "for i in range(4):\n",
    "    DD.append(np.zeros([4,4]))"
   ]
  },
  {
   "cell_type": "code",
   "execution_count": 58,
   "metadata": {},
   "outputs": [],
   "source": [
    "for index, matrix in enumerate(D):\n",
    "    DD[0] += Derivatives[0](1,index, matrix)\n",
    "    DD[1] += Derivatives[1](1,index, matrix)\n",
    "    DD[2] += Derivatives[2](1,index, matrix)\n",
    "    DD[3] += Derivatives[3](1,index, matrix)"
   ]
  },
  {
   "cell_type": "code",
   "execution_count": null,
   "metadata": {},
   "outputs": [],
   "source": []
  }
 ],
 "metadata": {
  "kernelspec": {
   "display_name": "Python 3",
   "language": "python",
   "name": "python3"
  },
  "language_info": {
   "codemirror_mode": {
    "name": "ipython",
    "version": 3
   },
   "file_extension": ".py",
   "mimetype": "text/x-python",
   "name": "python",
   "nbconvert_exporter": "python",
   "pygments_lexer": "ipython3",
   "version": "3.8.3"
  }
 },
 "nbformat": 4,
 "nbformat_minor": 4
}
