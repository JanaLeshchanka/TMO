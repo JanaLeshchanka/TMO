{
 "cells": [
  {
   "cell_type": "code",
   "execution_count": 1,
   "metadata": {},
   "outputs": [],
   "source": [
    "import numpy as np"
   ]
  },
  {
   "cell_type": "markdown",
   "metadata": {},
   "source": [
    "Сначала считываем размерность n, количество матриц k, матрицы D0, D1, D2, параметры равномерного распределеня T1 и T2 и вектор стационарных вероятностей Π(0)."
   ]
  },
  {
   "cell_type": "code",
   "execution_count": 2,
   "metadata": {},
   "outputs": [
    {
     "name": "stdout",
     "output_type": "stream",
     "text": [
      "[matrix([[-1.45,  0.2 ,  0.15,  0.1 ],\n",
      "        [ 0.2 , -2.6 ,  0.1 ,  0.3 ],\n",
      "        [ 0.2 ,  0.1 , -3.7 ,  0.4 ],\n",
      "        [ 0.1 ,  0.05,  0.15, -4.3 ]]), matrix([[0.5, 0. , 0. , 0. ],\n",
      "        [0. , 1. , 0. , 0. ],\n",
      "        [0. , 0. , 1.5, 0. ],\n",
      "        [0. , 0. , 0. , 2. ]]), matrix([[0.5, 0. , 0. , 0. ],\n",
      "        [0. , 1. , 0. , 0. ],\n",
      "        [0. , 0. , 1.5, 0. ],\n",
      "        [0. , 0. , 0. , 2. ]])]\n"
     ]
    }
   ],
   "source": [
    "task = open(\"task.txt\", \"r\")\n",
    "n = int(task.readline())\n",
    "k = int(task.readline())\n",
    "D = []\n",
    "for j in range(k):\n",
    "    line = task.readline()\n",
    "    D.append(np.matrix(line))\n",
    "print(D)\n",
    "T1 = float(task.readline())\n",
    "T2 = float(task.readline())\n",
    "pi0 = np.matrix(task.readline())"
   ]
  },
  {
   "cell_type": "markdown",
   "metadata": {},
   "source": [
    "D0, D1, D2 - матрицы, описывающие поведение потока. D - список этих матриц"
   ]
  },
  {
   "cell_type": "code",
   "execution_count": 3,
   "metadata": {},
   "outputs": [
    {
     "data": {
      "text/plain": [
       "[matrix([[-1.45,  0.2 ,  0.15,  0.1 ],\n",
       "         [ 0.2 , -2.6 ,  0.1 ,  0.3 ],\n",
       "         [ 0.2 ,  0.1 , -3.7 ,  0.4 ],\n",
       "         [ 0.1 ,  0.05,  0.15, -4.3 ]]),\n",
       " matrix([[0.5, 0. , 0. , 0. ],\n",
       "         [0. , 1. , 0. , 0. ],\n",
       "         [0. , 0. , 1.5, 0. ],\n",
       "         [0. , 0. , 0. , 2. ]]),\n",
       " matrix([[0.5, 0. , 0. , 0. ],\n",
       "         [0. , 1. , 0. , 0. ],\n",
       "         [0. , 0. , 1.5, 0. ],\n",
       "         [0. , 0. , 0. , 2. ]])]"
      ]
     },
     "execution_count": 3,
     "metadata": {},
     "output_type": "execute_result"
    }
   ],
   "source": [
    "D"
   ]
  },
  {
   "cell_type": "code",
   "execution_count": 4,
   "metadata": {},
   "outputs": [],
   "source": [
    "e = np.full([n,1], 1)\n",
    "e_ = np.full([n,1], 0)\n",
    "e_[0] = 1"
   ]
  },
  {
   "cell_type": "code",
   "execution_count": 5,
   "metadata": {},
   "outputs": [],
   "source": [
    "I_ = np.matrix(np.diag((e-e_).transpose()[0]))\n",
    "I = np.matrix(np.diag(e.transpose()[0]))"
   ]
  },
  {
   "cell_type": "code",
   "execution_count": 6,
   "metadata": {},
   "outputs": [],
   "source": [
    "e_ = e_.transpose()"
   ]
  },
  {
   "cell_type": "markdown",
   "metadata": {},
   "source": [
    "D_1 - инфинитезиальный генератор процесса"
   ]
  },
  {
   "cell_type": "code",
   "execution_count": 7,
   "metadata": {},
   "outputs": [],
   "source": [
    "D_1 = sum(D)"
   ]
  },
  {
   "cell_type": "code",
   "execution_count": 8,
   "metadata": {},
   "outputs": [
    {
     "data": {
      "text/plain": [
       "matrix([[-0.45,  0.2 ,  0.15,  0.1 ],\n",
       "        [ 0.2 , -0.6 ,  0.1 ,  0.3 ],\n",
       "        [ 0.2 ,  0.1 , -0.7 ,  0.4 ],\n",
       "        [ 0.1 ,  0.05,  0.15, -0.3 ]])"
      ]
     },
     "execution_count": 8,
     "metadata": {},
     "output_type": "execute_result"
    }
   ],
   "source": [
    "D_1"
   ]
  },
  {
   "cell_type": "code",
   "execution_count": 9,
   "metadata": {},
   "outputs": [],
   "source": [
    "def find_theta(matr, e):\n",
    "    D_1e = np.concatenate((matr.transpose(), e.transpose()))\n",
    "    c = np.concatenate((np.zeros([n,1]), np.matrix(1)))\n",
    "    theta = np.linalg.lstsq(a = D_1e, b = c)\n",
    "    theta = theta[0].reshape((1, n))\n",
    "    return theta"
   ]
  },
  {
   "cell_type": "code",
   "execution_count": 10,
   "metadata": {},
   "outputs": [],
   "source": [
    "def find_b(T1, T2):\n",
    "    b = []\n",
    "\n",
    "    for i in range(1, 5):\n",
    "        b.append((T2**(i + 1) - T1**(i + 1)) / ((i+1) * (T2 - T1)))\n",
    "    return b "
   ]
  },
  {
   "cell_type": "markdown",
   "metadata": {},
   "source": [
    "находим вектор 𝜃 из системы уравнений: <br>\n",
    "𝜃𝐷(1) = 0, <br>\n",
    "𝜃e = 1."
   ]
  },
  {
   "cell_type": "code",
   "execution_count": 11,
   "metadata": {},
   "outputs": [
    {
     "name": "stderr",
     "output_type": "stream",
     "text": [
      "<ipython-input-9-b14f42c2b41d>:4: FutureWarning: `rcond` parameter will change to the default of machine precision times ``max(M, N)`` where M and N are the input matrix dimensions.\n",
      "To use the future default and silence this warning we advise to pass `rcond=None`, to keep using the old, explicitly pass `rcond=-1`.\n",
      "  theta = np.linalg.lstsq(a = D_1e, b = c)\n"
     ]
    }
   ],
   "source": [
    "theta = find_theta(D_1, e)"
   ]
  },
  {
   "cell_type": "code",
   "execution_count": 12,
   "metadata": {},
   "outputs": [
    {
     "data": {
      "text/plain": [
       "matrix([[0.23870418, 0.14492754, 0.16794544, 0.44842285]])"
      ]
     },
     "execution_count": 12,
     "metadata": {},
     "output_type": "execute_result"
    }
   ],
   "source": [
    "theta"
   ]
  },
  {
   "cell_type": "markdown",
   "metadata": {},
   "source": [
    "dD - список производных производящих функций при z = 1"
   ]
  },
  {
   "cell_type": "code",
   "execution_count": 13,
   "metadata": {},
   "outputs": [],
   "source": [
    "dD = []"
   ]
  },
  {
   "cell_type": "code",
   "execution_count": 14,
   "metadata": {},
   "outputs": [],
   "source": [
    "dD.append(D_1)"
   ]
  },
  {
   "cell_type": "code",
   "execution_count": 15,
   "metadata": {},
   "outputs": [],
   "source": [
    "for i in range(4):\n",
    "    dD.append(np.matrix(np.zeros([n,n])))"
   ]
  },
  {
   "cell_type": "code",
   "execution_count": 16,
   "metadata": {},
   "outputs": [],
   "source": [
    "for index, matrix in enumerate(D):\n",
    "    dD[1] += index * matrix\n",
    "    dD[2] += index * (index - 1) * matrix\n",
    "    dD[3] += index * (index - 1) * (index - 2) * matrix\n",
    "    dD[4] += index * (index - 1) * (index - 2) * (index - 3) * matrix"
   ]
  },
  {
   "cell_type": "markdown",
   "metadata": {},
   "source": [
    "b - список начальных моментов распределения B(t) <br>\n",
    "T1, T2 - параметры равномерного распределения\n"
   ]
  },
  {
   "cell_type": "code",
   "execution_count": 17,
   "metadata": {},
   "outputs": [],
   "source": [
    "b = find_b(T1, T2)"
   ]
  },
  {
   "cell_type": "code",
   "execution_count": 18,
   "metadata": {},
   "outputs": [
    {
     "data": {
      "text/plain": [
       "[0.19999999999999998, 0.04333333333333333, 0.01, 0.00242]"
      ]
     },
     "execution_count": 18,
     "metadata": {},
     "output_type": "execute_result"
    }
   ],
   "source": [
    "b"
   ]
  },
  {
   "cell_type": "markdown",
   "metadata": {},
   "source": [
    "коэффициент 𝜆 находим из уравнения: <br>\n",
    "𝜆 = 𝜃𝐷′(1)e,\n",
    "где 𝐷′(1) = ∑︁k*Dk*z^(k-1)    /сумма от k=0 до k=+inf (кол-во матриц D)"
   ]
  },
  {
   "cell_type": "code",
   "execution_count": 19,
   "metadata": {},
   "outputs": [],
   "source": [
    "lambda_ = theta * dD[1] * e"
   ]
  },
  {
   "cell_type": "code",
   "execution_count": 20,
   "metadata": {},
   "outputs": [
    {
     "data": {
      "text/plain": [
       "matrix([[4.23913043]])"
      ]
     },
     "execution_count": 20,
     "metadata": {},
     "output_type": "execute_result"
    }
   ],
   "source": [
    "lambda_"
   ]
  },
  {
   "cell_type": "code",
   "execution_count": 21,
   "metadata": {},
   "outputs": [],
   "source": [
    "def find_A(d_mtrx, b):\n",
    "    A = []\n",
    "    A.append(d_mtrx[0])\n",
    "    A.append(-d_mtrx[1] * b[0])\n",
    "    A.append((d_mtrx[2] * b[0]**2 + d_mtrx[1] * b[1])/2)\n",
    "    A.append(-(d_mtrx[3] * b[0]**3 + 3 * d_mtrx[2] * b[0] * b[1] + d_mtrx[1] * b[2])/6)\n",
    "    A.append((d_mtrx[4] * b[0]**4 + 6 * d_mtrx[3] * b[0]**2 * b[1] + 4 * d_mtrx[2] * b[0] * b[2] + \n",
    "              3 * d_mtrx[2] * b[1]**2 + d_mtrx[1] * b[3])/24)\n",
    "    return A"
   ]
  },
  {
   "cell_type": "code",
   "execution_count": 22,
   "metadata": {},
   "outputs": [],
   "source": [
    "def find_wr(mtrx, b, lmbd, pi0, I_, I, A, A_):\n",
    "    p0 = lmbd * pi0 * np.linalg.inv(-mtrx[0])\n",
    "    w = []\n",
    "    w.append(theta)\n",
    "    A_inv = np.linalg.inv(A_)\n",
    "    w.append(((w[0] * (I + A[1]) - p0) * I_ + w[0] * A[2] * e * e_) * A_inv)\n",
    "    w.append(-2 * ((w[0] * A[2] - w[1] * (I + A[1])) * I_ + (w[0] * A[3] + w[1] * A[2]) * e * e_) * A_inv)\n",
    "    w.append(3 * ((2 * w[0] * A[3] - 2 * w[1] * A[2] + w[2] * (I + A[1])) * I_ + \n",
    "     (2 * w[0] * A[4] - 2 * w[1] * A[3] + w[2] * A[2]) * e * e_) * A_inv)\n",
    "    return w"
   ]
  },
  {
   "cell_type": "code",
   "execution_count": 23,
   "metadata": {},
   "outputs": [],
   "source": [
    "def find_rho(lmbd, b):\n",
    "    return lmbd * b[0]"
   ]
  },
  {
   "cell_type": "code",
   "execution_count": 24,
   "metadata": {},
   "outputs": [],
   "source": [
    "def find_v(w, A, lmbd, b, rho):\n",
    "    v = []\n",
    "    v.append(np.matrix([1]))\n",
    "    v.append(((w[0] * A[2] - w[1] * A[1]) * e - lmbd * b[1] / 2)/rho)\n",
    "    v.append(((-2 * w[0] * A[3] + 2 * w[1] * A[2] - w[2] * A[1]) * e -\n",
    "              v[0] * lmbd * b[2] / 3 - v[1] * lmbd * b[1]) / rho) \n",
    "    v.append(((6 * w[0] * A[4] - 6 * w[1] * A[3] + 3 * w[2] * A[2] - w[3] * A[1]) * e - \n",
    "              lmbd * (v[0] * b[3] / 4 + v[1] * b[2] + 3 * v[2] * b[1] / 2)) / rho)\n",
    "\n",
    "    return v"
   ]
  },
  {
   "cell_type": "markdown",
   "metadata": {},
   "source": [
    "Находим <br>\n",
    "A0 = D(1);<br>\n",
    "A1 = −D′(1)b1;<br>\n",
    "A2 = [D′′ (1)b1^2 + D′(1)b2]/2<br>\n",
    "A3 =−[D′′′(1)b1^3 +3D′′(1)b1*b2 +D′(1)b3]/6<br>\n",
    "A4 = [D′′′′(1)b1 + 6D′′′(1)b1^2*b2 + 4D′′(1)b1*b3 + 3D′′(1)b2 + D′(1)b4]/24<br>\n",
    "\n",
    "A=A0I+(I+A1)eeˆ."
   ]
  },
  {
   "cell_type": "code",
   "execution_count": 25,
   "metadata": {},
   "outputs": [],
   "source": [
    "A = find_A(dD, b)"
   ]
  },
  {
   "cell_type": "code",
   "execution_count": 26,
   "metadata": {},
   "outputs": [],
   "source": [
    "A_ = A[0] * I_ + (I + A[1]) * e * e_"
   ]
  },
  {
   "cell_type": "code",
   "execution_count": 27,
   "metadata": {},
   "outputs": [
    {
     "data": {
      "text/plain": [
       "[matrix([[-0.45,  0.2 ,  0.15,  0.1 ],\n",
       "         [ 0.2 , -0.6 ,  0.1 ,  0.3 ],\n",
       "         [ 0.2 ,  0.1 , -0.7 ,  0.4 ],\n",
       "         [ 0.1 ,  0.05,  0.15, -0.3 ]]),\n",
       " matrix([[-0.3,  0. ,  0. ,  0. ],\n",
       "         [ 0. , -0.6,  0. ,  0. ],\n",
       "         [ 0. ,  0. , -0.9,  0. ],\n",
       "         [ 0. ,  0. ,  0. , -1.2]]),\n",
       " matrix([[0.0525, 0.    , 0.    , 0.    ],\n",
       "         [0.    , 0.105 , 0.    , 0.    ],\n",
       "         [0.    , 0.    , 0.1575, 0.    ],\n",
       "         [0.    , 0.    , 0.    , 0.21  ]]),\n",
       " matrix([[-0.00683333, -0.        , -0.        , -0.        ],\n",
       "         [-0.        , -0.01366667, -0.        , -0.        ],\n",
       "         [-0.        , -0.        , -0.0205    , -0.        ],\n",
       "         [-0.        , -0.        , -0.        , -0.02733333]]),\n",
       " matrix([[0.00071931, 0.        , 0.        , 0.        ],\n",
       "         [0.        , 0.00143861, 0.        , 0.        ],\n",
       "         [0.        , 0.        , 0.00215792, 0.        ],\n",
       "         [0.        , 0.        , 0.        , 0.00287722]])]"
      ]
     },
     "execution_count": 27,
     "metadata": {},
     "output_type": "execute_result"
    }
   ],
   "source": [
    "A"
   ]
  },
  {
   "cell_type": "code",
   "execution_count": 28,
   "metadata": {},
   "outputs": [
    {
     "data": {
      "text/plain": [
       "matrix([[ 0.7 ,  0.2 ,  0.15,  0.1 ],\n",
       "        [ 0.4 , -0.6 ,  0.1 ,  0.3 ],\n",
       "        [ 0.1 ,  0.1 , -0.7 ,  0.4 ],\n",
       "        [-0.2 ,  0.05,  0.15, -0.3 ]])"
      ]
     },
     "execution_count": 28,
     "metadata": {},
     "output_type": "execute_result"
    }
   ],
   "source": [
    "A_"
   ]
  },
  {
   "cell_type": "markdown",
   "metadata": {},
   "source": [
    "Находим Wr, r =0,1,2,3\n"
   ]
  },
  {
   "cell_type": "code",
   "execution_count": 29,
   "metadata": {},
   "outputs": [],
   "source": [
    "w = find_wr(D, b, lambda_, pi0, I_, I, A, A_)"
   ]
  },
  {
   "cell_type": "code",
   "execution_count": 30,
   "metadata": {},
   "outputs": [
    {
     "data": {
      "text/plain": [
       "[matrix([[0.23870418, 0.14492754, 0.16794544, 0.44842285]]),\n",
       " matrix([[0.3770262 , 0.25459632, 0.39403911, 1.28395608]]),\n",
       " matrix([[-0.24241463, -0.03554588,  0.53537122,  2.93721097]]),\n",
       " matrix([[ 7.77443926,  7.81367373, 10.93509092, 36.49745002]])]"
      ]
     },
     "execution_count": 30,
     "metadata": {},
     "output_type": "execute_result"
    }
   ],
   "source": [
    "w"
   ]
  },
  {
   "cell_type": "markdown",
   "metadata": {},
   "source": [
    "находим\n",
    "\\begin{align} \n",
    "\\rho = \\lambda b_1\\\\\n",
    "\\end{align}"
   ]
  },
  {
   "cell_type": "code",
   "execution_count": 31,
   "metadata": {},
   "outputs": [],
   "source": [
    "rho = find_rho(lambda_, b)"
   ]
  },
  {
   "cell_type": "code",
   "execution_count": 32,
   "metadata": {},
   "outputs": [
    {
     "data": {
      "text/plain": [
       "matrix([[0.84782609]])"
      ]
     },
     "execution_count": 32,
     "metadata": {},
     "output_type": "execute_result"
    }
   ],
   "source": [
    "rho"
   ]
  },
  {
   "cell_type": "code",
   "execution_count": 33,
   "metadata": {},
   "outputs": [],
   "source": [
    "v = find_v(w, A, lambda_, b, rho)"
   ]
  },
  {
   "cell_type": "code",
   "execution_count": 34,
   "metadata": {},
   "outputs": [
    {
     "data": {
      "text/plain": [
       "[matrix([[1]]),\n",
       " matrix([[2.61583115]]),\n",
       " matrix([[4.96900038]]),\n",
       " matrix([[72.58331166]])]"
      ]
     },
     "execution_count": 34,
     "metadata": {},
     "output_type": "execute_result"
    }
   ],
   "source": [
    "v"
   ]
  }
 ],
 "metadata": {
  "kernelspec": {
   "display_name": "Python 3",
   "language": "python",
   "name": "python3"
  },
  "language_info": {
   "codemirror_mode": {
    "name": "ipython",
    "version": 3
   },
   "file_extension": ".py",
   "mimetype": "text/x-python",
   "name": "python",
   "nbconvert_exporter": "python",
   "pygments_lexer": "ipython3",
   "version": "3.8.3"
  }
 },
 "nbformat": 4,
 "nbformat_minor": 4
}
